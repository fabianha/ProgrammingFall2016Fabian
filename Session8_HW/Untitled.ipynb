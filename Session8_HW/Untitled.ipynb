{
 "cells": [
  {
   "cell_type": "code",
   "execution_count": 7,
   "metadata": {
    "collapsed": false
   },
   "outputs": [
    {
     "data": {
      "text/html": [
       "<table>\n",
       "<thead><tr><th></th><th scope=col>name</th><th scope=col>normalized_name</th><th scope=col>gender</th><th scope=col>word_count</th><th scope=col>line_count</th><th scope=col>episode_count</th></tr></thead>\n",
       "<tbody>\n",
       "\t<tr><th scope=row>2</th><td>Homer Simpson</td><td>homer simpson</td><td>m</td><td>287684</td><td>28005</td><td>564</td></tr>\n",
       "\t<tr><th scope=row>1</th><td>Marge Simpson</td><td>marge simpson</td><td>f</td><td>134741</td><td>13220</td><td>563</td></tr>\n",
       "\t<tr><th scope=row>8</th><td>Bart Simpson</td><td>bart simpson</td><td>m</td><td>118773</td><td>13129</td><td>562</td></tr>\n",
       "\t<tr><th scope=row>9</th><td>Lisa Simpson</td><td>lisa simpson</td><td>f</td><td>99549</td><td>10830</td><td>562</td></tr>\n",
       "\t<tr><th scope=row>15</th><td>C. Montgomery Burns</td><td>c montgomery burns</td><td>m</td><td>36440</td><td>3109</td><td>240</td></tr>\n",
       "\t<tr><th scope=row>17</th><td>Moe Szyslak</td><td>moe szyslak</td><td>m</td><td>33803</td><td>2799</td><td>375</td></tr>\n",
       "</tbody>\n",
       "</table>\n"
      ],
      "text/latex": [
       "\\begin{tabular}{r|llllll}\n",
       "  & name & normalized_name & gender & word_count & line_count & episode_count\\\\\n",
       "\\hline\n",
       "\t2 & Homer Simpson & homer simpson & m & 287684 & 28005 & 564\\\\\n",
       "\t1 & Marge Simpson & marge simpson & f & 134741 & 13220 & 563\\\\\n",
       "\t8 & Bart Simpson & bart simpson & m & 118773 & 13129 & 562\\\\\n",
       "\t9 & Lisa Simpson & lisa simpson & f & 99549 & 10830 & 562\\\\\n",
       "\t15 & C. Montgomery Burns & c montgomery burns & m & 36440 & 3109 & 240\\\\\n",
       "\t17 & Moe Szyslak & moe szyslak & m & 33803 & 2799 & 375\\\\\n",
       "\\end{tabular}\n"
      ],
      "text/plain": [
       "                  name    normalized_name gender word_count line_count\n",
       "2        Homer Simpson      homer simpson      m     287684      28005\n",
       "1        Marge Simpson      marge simpson      f     134741      13220\n",
       "8         Bart Simpson       bart simpson      m     118773      13129\n",
       "9         Lisa Simpson       lisa simpson      f      99549      10830\n",
       "15 C. Montgomery Burns c montgomery burns      m      36440       3109\n",
       "17         Moe Szyslak        moe szyslak      m      33803       2799\n",
       "   episode_count\n",
       "2            564\n",
       "1            563\n",
       "8            562\n",
       "9            562\n",
       "15           240\n",
       "17           375"
      ]
     },
     "metadata": {},
     "output_type": "display_data"
    }
   ],
   "source": [
    "mydir <- \"C:/Users/Fabia/ProgrammingFall2016Fabian/Final_Project/\"\n",
    "data <- read.csv(paste(mydir, \"words_by_character.csv\", sep=\"\"),\n",
    "                 row.names=1)\n",
    "\n",
    "head(data)"
   ]
  }
 ],
 "metadata": {
  "anaconda-cloud": {},
  "kernelspec": {
   "display_name": "R",
   "language": "R",
   "name": "ir"
  },
  "language_info": {
   "codemirror_mode": "r",
   "file_extension": ".r",
   "mimetype": "text/x-r-source",
   "name": "R",
   "pygments_lexer": "r",
   "version": "3.3.1"
  }
 },
 "nbformat": 4,
 "nbformat_minor": 0
}
