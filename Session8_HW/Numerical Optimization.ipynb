{
 "cells": [
  {
   "cell_type": "code",
   "execution_count": 1,
   "metadata": {
    "collapsed": true
   },
   "outputs": [],
   "source": [
    "############### Newton Method Optimization #####################\n",
    "\n",
    "f <- function(x, param){\n",
    "    return(param[1]*(x-param[2])^3)\n",
    "}\n",
    "\n",
    "f_prime <- function(x, param){\n",
    "    return(param[1]*3*(x-param[2])^2)\n",
    "}\n",
    "\n"
   ]
  },
  {
   "cell_type": "code",
   "execution_count": 3,
   "metadata": {
    "collapsed": false
   },
   "outputs": [],
   "source": [
    "newton <- function(f, f_prime, x0, tol=1e-1, maxits=10){\n",
    "    x1 <- 0\n",
    "    norm <- 1e9\n",
    "    \n",
    "    i <- 1\n",
    "    \n",
    "    while(i <= maxits & norm > tol){\n",
    "        x1 <- x0 - f(x0, param)/f_prime(x0, param)\n",
    "        norm <- abs(x1 - x0)\n",
    "        x0 <- x1\n",
    "        i <- i + 1\n",
    "    }\n",
    "    return(x1)\n",
    "}\n",
    "\n",
    "# tol: if my difference of moving goes below a certain threshold\n",
    "# maxits: maximum number of iterations\n"
   ]
  },
  {
   "cell_type": "code",
   "execution_count": 5,
   "metadata": {
    "collapsed": false
   },
   "outputs": [
    {
     "name": "stderr",
     "output_type": "stream",
     "text": [
      "Warning message:\n",
      "In while (i <= maxits & norm > tol) {: Bedingung hat Länge > 1 und nur das erste Element wird benutzt"
     ]
    },
    {
     "ename": "ERROR",
     "evalue": "Error in f(x0, param): Objekt 'param' nicht gefunden\n",
     "output_type": "error",
     "traceback": [
      "Error in f(x0, param): Objekt 'param' nicht gefunden\nTraceback:\n",
      "1. newton(f, f_prime, 2, c(1, 0))",
      "2. f(x0, param)   # at line 8 of file <text>"
     ]
    }
   ],
   "source": [
    "newton(f, f_prime, 2.0, c(1.0,0.0))"
   ]
  },
  {
   "cell_type": "code",
   "execution_count": null,
   "metadata": {
    "collapsed": true
   },
   "outputs": [],
   "source": []
  }
 ],
 "metadata": {
  "anaconda-cloud": {},
  "kernelspec": {
   "display_name": "R",
   "language": "R",
   "name": "ir"
  },
  "language_info": {
   "codemirror_mode": "r",
   "file_extension": ".r",
   "mimetype": "text/x-r-source",
   "name": "R",
   "pygments_lexer": "r",
   "version": "3.3.1"
  }
 },
 "nbformat": 4,
 "nbformat_minor": 0
}
