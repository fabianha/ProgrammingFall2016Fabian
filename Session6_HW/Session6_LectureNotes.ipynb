{
 "cells": [
  {
   "cell_type": "code",
   "execution_count": 1,
   "metadata": {
    "collapsed": false,
    "scrolled": true
   },
   "outputs": [
    {
     "name": "stderr",
     "output_type": "stream",
     "text": [
      "also installing the dependencies 'dichromat', 'munsell', 'labeling', 'xtable', 'iterators', 'gtable', 'plyr', 'scales', 'pkgmaker', 'registry', 'rngtools', 'stringr', 'gridBase', 'colorspace', 'RColorBrewer', 'foreach', 'doParallel', 'ggplot2', 'reshape2', 'NMF', 'irlba'\n",
      "\n"
     ]
    },
    {
     "name": "stdout",
     "output_type": "stream",
     "text": [
      "package 'dichromat' successfully unpacked and MD5 sums checked\n",
      "package 'munsell' successfully unpacked and MD5 sums checked\n",
      "package 'labeling' successfully unpacked and MD5 sums checked\n",
      "package 'xtable' successfully unpacked and MD5 sums checked\n",
      "package 'iterators' successfully unpacked and MD5 sums checked\n",
      "package 'gtable' successfully unpacked and MD5 sums checked\n",
      "package 'plyr' successfully unpacked and MD5 sums checked\n",
      "package 'scales' successfully unpacked and MD5 sums checked\n",
      "package 'pkgmaker' successfully unpacked and MD5 sums checked\n",
      "package 'registry' successfully unpacked and MD5 sums checked\n",
      "package 'rngtools' successfully unpacked and MD5 sums checked\n",
      "package 'stringr' successfully unpacked and MD5 sums checked\n",
      "package 'gridBase' successfully unpacked and MD5 sums checked\n",
      "package 'colorspace' successfully unpacked and MD5 sums checked\n",
      "package 'RColorBrewer' successfully unpacked and MD5 sums checked\n",
      "package 'foreach' successfully unpacked and MD5 sums checked\n",
      "package 'doParallel' successfully unpacked and MD5 sums checked\n",
      "package 'ggplot2' successfully unpacked and MD5 sums checked\n",
      "package 'reshape2' successfully unpacked and MD5 sums checked\n",
      "package 'NMF' successfully unpacked and MD5 sums checked\n",
      "package 'irlba' successfully unpacked and MD5 sums checked\n",
      "package 'igraph' successfully unpacked and MD5 sums checked\n",
      "\n",
      "The downloaded binary packages are in\n",
      "\tC:\\Users\\Fabia\\AppData\\Local\\Temp\\RtmpsHKhPY\\downloaded_packages\n"
     ]
    }
   ],
   "source": [
    "# Adjacency Network Matrices: how many nodes are there from one node to the other node; thereby only count \n",
    "\n",
    "# 1 --- 2 --- 3\n",
    "\n",
    "# 0 1 0\n",
    "# 1 0 1\n",
    "# 0 1 0 \n",
    "\n",
    "#          o\n",
    "#         /\n",
    "#        /\n",
    "# o --- 1 --- o\n",
    "\n",
    "# 0 1 1 1\n",
    "# 1 0 0 0\n",
    "# 1 0 0 0\n",
    "# 1 0 0 0 \n",
    "\n",
    "install.packages(\"igraph\", repos='http://cran.us.r-project.org')\n"
   ]
  },
  {
   "cell_type": "code",
   "execution_count": 13,
   "metadata": {
    "collapsed": false
   },
   "outputs": [
    {
     "name": "stderr",
     "output_type": "stream",
     "text": [
      "Loading required package: igraph\n",
      "\n",
      "Attaching package: 'igraph'\n",
      "\n",
      "The following objects are masked from 'package:stats':\n",
      "\n",
      "    decompose, spectrum\n",
      "\n",
      "The following object is masked from 'package:base':\n",
      "\n",
      "    union\n",
      "\n"
     ]
    }
   ],
   "source": [
    "require(igraph)"
   ]
  },
  {
   "cell_type": "code",
   "execution_count": 3,
   "metadata": {
    "collapsed": false
   },
   "outputs": [
    {
     "data": {
      "text/html": [
       "<table>\n",
       "<tbody>\n",
       "\t<tr><td>0</td><td>1</td><td>1</td><td>1</td></tr>\n",
       "\t<tr><td>1</td><td>0</td><td>0</td><td>0</td></tr>\n",
       "\t<tr><td>1</td><td>0</td><td>0</td><td>0</td></tr>\n",
       "\t<tr><td>1</td><td>0</td><td>0</td><td>0</td></tr>\n",
       "</tbody>\n",
       "</table>\n"
      ],
      "text/latex": [
       "\\begin{tabular}{llll}\n",
       "\t 0 & 1 & 1 & 1\\\\\n",
       "\t 1 & 0 & 0 & 0\\\\\n",
       "\t 1 & 0 & 0 & 0\\\\\n",
       "\t 1 & 0 & 0 & 0\\\\\n",
       "\\end{tabular}\n"
      ],
      "text/markdown": [
       "1. 0\n",
       "2. 1\n",
       "3. 1\n",
       "4. 1\n",
       "5. 1\n",
       "6. 0\n",
       "7. 0\n",
       "8. 0\n",
       "9. 1\n",
       "10. 0\n",
       "11. 0\n",
       "12. 0\n",
       "13. 1\n",
       "14. 0\n",
       "15. 0\n",
       "16. 0\n",
       "\n",
       "\n"
      ],
      "text/plain": [
       "     [,1] [,2] [,3] [,4]\n",
       "[1,]    0    1    1    1\n",
       "[2,]    1    0    0    0\n",
       "[3,]    1    0    0    0\n",
       "[4,]    1    0    0    0"
      ]
     },
     "metadata": {},
     "output_type": "display_data"
    }
   ],
   "source": [
    "A <- matrix(c(0,1,1,1,1,0,0,0,1,0,0,0,1,0,0,0), nrow=4)\n",
    "A"
   ]
  },
  {
   "cell_type": "code",
   "execution_count": 6,
   "metadata": {
    "collapsed": false
   },
   "outputs": [
    {
     "data": {
      "text/html": [
       "<table>\n",
       "<thead><tr><th scope=col>a1</th><th scope=col>a2</th><th scope=col>a2</th><th scope=col>a2</th></tr></thead>\n",
       "<tbody>\n",
       "\t<tr><td>0</td><td>1</td><td>1</td><td>1</td></tr>\n",
       "\t<tr><td>1</td><td>0</td><td>0</td><td>0</td></tr>\n",
       "\t<tr><td>1</td><td>0</td><td>0</td><td>0</td></tr>\n",
       "\t<tr><td>1</td><td>0</td><td>0</td><td>0</td></tr>\n",
       "</tbody>\n",
       "</table>\n"
      ],
      "text/latex": [
       "\\begin{tabular}{llll}\n",
       " a1 & a2 & a2 & a2\\\\\n",
       "\\hline\n",
       "\t 0 & 1 & 1 & 1\\\\\n",
       "\t 1 & 0 & 0 & 0\\\\\n",
       "\t 1 & 0 & 0 & 0\\\\\n",
       "\t 1 & 0 & 0 & 0\\\\\n",
       "\\end{tabular}\n"
      ],
      "text/markdown": [
       "1. 0\n",
       "2. 1\n",
       "3. 1\n",
       "4. 1\n",
       "5. 1\n",
       "6. 0\n",
       "7. 0\n",
       "8. 0\n",
       "9. 1\n",
       "10. 0\n",
       "11. 0\n",
       "12. 0\n",
       "13. 1\n",
       "14. 0\n",
       "15. 0\n",
       "16. 0\n",
       "\n",
       "\n"
      ],
      "text/plain": [
       "     a1 a2 a2 a2\n",
       "[1,]  0  1  1  1\n",
       "[2,]  1  0  0  0\n",
       "[3,]  1  0  0  0\n",
       "[4,]  1  0  0  0"
      ]
     },
     "metadata": {},
     "output_type": "display_data"
    }
   ],
   "source": [
    "a1 <- c(0,1,1,1)\n",
    "a2 <- c(1,0,0,0)\n",
    "A <- cbind(a1, a2, a2, a2)\n",
    "A"
   ]
  },
  {
   "cell_type": "code",
   "execution_count": 9,
   "metadata": {
    "collapsed": false
   },
   "outputs": [
    {
     "data": {
      "text/html": [
       "<table>\n",
       "<tbody>\n",
       "\t<tr><td>0</td><td>1</td><td>1</td><td>1</td></tr>\n",
       "\t<tr><td>1</td><td>0</td><td>0</td><td>0</td></tr>\n",
       "\t<tr><td>1</td><td>0</td><td>0</td><td>0</td></tr>\n",
       "\t<tr><td>1</td><td>0</td><td>0</td><td>0</td></tr>\n",
       "</tbody>\n",
       "</table>\n"
      ],
      "text/latex": [
       "\\begin{tabular}{llll}\n",
       "\t 0 & 1 & 1 & 1\\\\\n",
       "\t 1 & 0 & 0 & 0\\\\\n",
       "\t 1 & 0 & 0 & 0\\\\\n",
       "\t 1 & 0 & 0 & 0\\\\\n",
       "\\end{tabular}\n"
      ],
      "text/markdown": [
       "1. 0\n",
       "2. 1\n",
       "3. 1\n",
       "4. 1\n",
       "5. 1\n",
       "6. 0\n",
       "7. 0\n",
       "8. 0\n",
       "9. 1\n",
       "10. 0\n",
       "11. 0\n",
       "12. 0\n",
       "13. 1\n",
       "14. 0\n",
       "15. 0\n",
       "16. 0\n",
       "\n",
       "\n"
      ],
      "text/plain": [
       "     [,1] [,2] [,3] [,4]\n",
       "[1,]    0    1    1    1\n",
       "[2,]    1    0    0    0\n",
       "[3,]    1    0    0    0\n",
       "[4,]    1    0    0    0"
      ]
     },
     "metadata": {},
     "output_type": "display_data"
    }
   ],
   "source": [
    "# creating that with a 'for' loop\n",
    "n <- 4\n",
    "\n",
    "A <- matrix(0, nrow=n, ncol=n)\n",
    "for(i in 1:n){\n",
    "    for(j in 1:n){\n",
    "        if(i != j){\n",
    "            if(i == 1 | j == 1){\n",
    "                A[i, j] <- 1\n",
    "            }\n",
    "        }\n",
    "    }\n",
    "}\n",
    "A"
   ]
  },
  {
   "cell_type": "code",
   "execution_count": 23,
   "metadata": {
    "collapsed": false
   },
   "outputs": [
    {
     "data": {
      "text/html": [
       "<table>\n",
       "<tbody>\n",
       "\t<tr><td>0</td><td>1</td><td>1</td><td>1</td></tr>\n",
       "\t<tr><td>1</td><td>0</td><td>0</td><td>0</td></tr>\n",
       "\t<tr><td>1</td><td>0</td><td>0</td><td>0</td></tr>\n",
       "\t<tr><td>1</td><td>0</td><td>0</td><td>0</td></tr>\n",
       "</tbody>\n",
       "</table>\n"
      ],
      "text/latex": [
       "\\begin{tabular}{llll}\n",
       "\t 0 & 1 & 1 & 1\\\\\n",
       "\t 1 & 0 & 0 & 0\\\\\n",
       "\t 1 & 0 & 0 & 0\\\\\n",
       "\t 1 & 0 & 0 & 0\\\\\n",
       "\\end{tabular}\n"
      ],
      "text/markdown": [
       "1. 0\n",
       "2. 1\n",
       "3. 1\n",
       "4. 1\n",
       "5. 1\n",
       "6. 0\n",
       "7. 0\n",
       "8. 0\n",
       "9. 1\n",
       "10. 0\n",
       "11. 0\n",
       "12. 0\n",
       "13. 1\n",
       "14. 0\n",
       "15. 0\n",
       "16. 0\n",
       "\n",
       "\n"
      ],
      "text/plain": [
       "     [,1] [,2] [,3] [,4]\n",
       "[1,]    0    1    1    1\n",
       "[2,]    1    0    0    0\n",
       "[3,]    1    0    0    0\n",
       "[4,]    1    0    0    0"
      ]
     },
     "metadata": {},
     "output_type": "display_data"
    },
    {
     "data": {
      "image/png": "[encoded data removed]",
      "text/plain": [
       "Plot with title \"\""
      ]
     },
     "metadata": {
      "image/svg+xml": {
       "isolated": true
      }
     },
     "output_type": "display_data"
    }
   ],
   "source": [
    "# getting more compact - combining the two if statements with if\n",
    "n <- 4\n",
    "\n",
    "A <- matrix(0, nrow=n, ncol=n)\n",
    "\n",
    "for(i in 1:n){\n",
    "    for(j in 1:n){\n",
    "        if(i != j & (i == 1 | j == 1)){\n",
    "                A[i, j] <- 1\n",
    "        }\n",
    "    }\n",
    "}\n",
    "A\n",
    "plot(graph_from_adjacency_matrix(A))"
   ]
  },
  {
   "cell_type": "code",
   "execution_count": 25,
   "metadata": {
    "collapsed": false
   },
   "outputs": [
    {
     "data": {
      "text/html": [
       "<table>\n",
       "<tbody>\n",
       "\t<tr><td>0</td><td>1</td><td>1</td><td>1</td></tr>\n",
       "\t<tr><td>1</td><td>0</td><td>1</td><td>1</td></tr>\n",
       "\t<tr><td>1</td><td>1</td><td>0</td><td>1</td></tr>\n",
       "\t<tr><td>1</td><td>1</td><td>1</td><td>0</td></tr>\n",
       "</tbody>\n",
       "</table>\n"
      ],
      "text/latex": [
       "\\begin{tabular}{llll}\n",
       "\t 0 & 1 & 1 & 1\\\\\n",
       "\t 1 & 0 & 1 & 1\\\\\n",
       "\t 1 & 1 & 0 & 1\\\\\n",
       "\t 1 & 1 & 1 & 0\\\\\n",
       "\\end{tabular}\n"
      ],
      "text/markdown": [
       "1. 0\n",
       "2. 1\n",
       "3. 1\n",
       "4. 1\n",
       "5. 1\n",
       "6. 0\n",
       "7. 1\n",
       "8. 1\n",
       "9. 1\n",
       "10. 1\n",
       "11. 0\n",
       "12. 1\n",
       "13. 1\n",
       "14. 1\n",
       "15. 1\n",
       "16. 0\n",
       "\n",
       "\n"
      ],
      "text/plain": [
       "     [,1] [,2] [,3] [,4]\n",
       "[1,]    0    1    1    1\n",
       "[2,]    1    0    1    1\n",
       "[3,]    1    1    0    1\n",
       "[4,]    1    1    1    0"
      ]
     },
     "metadata": {},
     "output_type": "display_data"
    },
    {
     "data": {
      "image/png": "[encoded data removed]",
      "text/plain": [
       "Plot with title \"\""
      ]
     },
     "metadata": {
      "image/svg+xml": {
       "isolated": true
      }
     },
     "output_type": "display_data"
    }
   ],
   "source": [
    "# creating a random network \n",
    "# for each connection in the matrix, there is a probability p to exists\n",
    "n <- 4\n",
    "\n",
    "p <- 1 \n",
    "A <- matrix(0, nrow=n, ncol=n)\n",
    "\n",
    "for(i in 1:n){\n",
    "    for(j in 1:i){ #change the n into i\n",
    "        if(i != j)\n",
    "            if(runif(1) <= p){\n",
    "                A[i, j] <- 1\n",
    "        }\n",
    "    }\n",
    "}\n",
    "A <- A + t(A) # transposing and adding the old matrix together with the transposed one\n",
    "A\n",
    "plot(graph_from_adjacency_matrix(A))\n",
    "    \n",
    "    # there is a problem with this: in economics, we don't want to have \n",
    "    \n",
    "# triangular matrix: Matrix which has all 0 either below or above the triangular. "
   ]
  },
  {
   "cell_type": "code",
   "execution_count": 26,
   "metadata": {
    "collapsed": false
   },
   "outputs": [
    {
     "data": {
      "text/html": [
       "<table>\n",
       "<tbody>\n",
       "\t<tr><td>2</td><td>1</td><td>1</td><td>1</td></tr>\n",
       "\t<tr><td>1</td><td>0</td><td>1</td><td>1</td></tr>\n",
       "\t<tr><td>1</td><td>1</td><td>0</td><td>1</td></tr>\n",
       "\t<tr><td>1</td><td>1</td><td>1</td><td>0</td></tr>\n",
       "</tbody>\n",
       "</table>\n"
      ],
      "text/latex": [
       "\\begin{tabular}{llll}\n",
       "\t 2 & 1 & 1 & 1\\\\\n",
       "\t 1 & 0 & 1 & 1\\\\\n",
       "\t 1 & 1 & 0 & 1\\\\\n",
       "\t 1 & 1 & 1 & 0\\\\\n",
       "\\end{tabular}\n"
      ],
      "text/markdown": [
       "1. 2\n",
       "2. 1\n",
       "3. 1\n",
       "4. 1\n",
       "5. 1\n",
       "6. 0\n",
       "7. 1\n",
       "8. 1\n",
       "9. 1\n",
       "10. 1\n",
       "11. 0\n",
       "12. 1\n",
       "13. 1\n",
       "14. 1\n",
       "15. 1\n",
       "16. 0\n",
       "\n",
       "\n"
      ],
      "text/plain": [
       "     [,1] [,2] [,3] [,4]\n",
       "[1,]    2    1    1    1\n",
       "[2,]    1    0    1    1\n",
       "[3,]    1    1    0    1\n",
       "[4,]    1    1    1    0"
      ]
     },
     "metadata": {},
     "output_type": "display_data"
    },
    {
     "data": {
      "image/png": "[encoded data removed]",
      "text/plain": [
       "Plot with title \"\""
      ]
     },
     "metadata": {
      "image/svg+xml": {
       "isolated": true
      }
     },
     "output_type": "display_data"
    }
   ],
   "source": [
    "# now we want to vectorize the whole loop \n",
    "\n",
    "n <- 4\n",
    "\n",
    "p <- 1 \n",
    "A <- matrix(0, nrow=n, ncol=n)\n",
    "\n",
    "for(i in 2:n){ #start at 2, don`t care about i=1 (don`t look at the first row) since we know it is 0\n",
    "    for(j in 1:(i-1)){ #with this i will never equal j such that the next step gets redundant\n",
    "            if(runif(1) <= p){\n",
    "                A[i, j] <- 1\n",
    "        }\n",
    "    }\n",
    "}\n",
    "A <- A + t(A) # transposing and adding the old matrix together with the transposed one\n",
    "A\n",
    "plot(graph_from_adjacency_matrix(A))"
   ]
  },
  {
   "cell_type": "code",
   "execution_count": 42,
   "metadata": {
    "collapsed": false
   },
   "outputs": [
    {
     "data": {
      "text/html": [
       "<table>\n",
       "<tbody>\n",
       "\t<tr><td>0</td><td>1</td><td>1</td><td>1</td></tr>\n",
       "\t<tr><td>1</td><td>0</td><td>1</td><td>1</td></tr>\n",
       "\t<tr><td>1</td><td>1</td><td>0</td><td>1</td></tr>\n",
       "\t<tr><td>1</td><td>1</td><td>1</td><td>0</td></tr>\n",
       "</tbody>\n",
       "</table>\n"
      ],
      "text/latex": [
       "\\begin{tabular}{llll}\n",
       "\t 0 & 1 & 1 & 1\\\\\n",
       "\t 1 & 0 & 1 & 1\\\\\n",
       "\t 1 & 1 & 0 & 1\\\\\n",
       "\t 1 & 1 & 1 & 0\\\\\n",
       "\\end{tabular}\n"
      ],
      "text/markdown": [
       "1. 0\n",
       "2. 1\n",
       "3. 1\n",
       "4. 1\n",
       "5. 1\n",
       "6. 0\n",
       "7. 1\n",
       "8. 1\n",
       "9. 1\n",
       "10. 1\n",
       "11. 0\n",
       "12. 1\n",
       "13. 1\n",
       "14. 1\n",
       "15. 1\n",
       "16. 0\n",
       "\n",
       "\n"
      ],
      "text/plain": [
       "     [,1] [,2] [,3] [,4]\n",
       "[1,]    0    1    1    1\n",
       "[2,]    1    0    1    1\n",
       "[3,]    1    1    0    1\n",
       "[4,]    1    1    1    0"
      ]
     },
     "metadata": {},
     "output_type": "display_data"
    }
   ],
   "source": [
    "# make it even shorter\n",
    "\n",
    "n <- 4\n",
    "p <- 1.0 \n",
    "A <- matrix(0, nrow=n, ncol=n)\n",
    "\n",
    "for(i in 2:n){ #start at 2, don`t care about i=1 (don`t look at the first row) since we know it is 0\n",
    "       A[i, 1:(i-1)] <- as.integer(runif(i-1) <= p)\n",
    "    }\n",
    "A <- A + t(A) # transposing and adding the old matrix together with the transposed one\n",
    "A\n",
    "#plot(graph_from_adjacency_matrix(A))\n"
   ]
  },
  {
   "cell_type": "code",
   "execution_count": 43,
   "metadata": {
    "collapsed": false
   },
   "outputs": [
    {
     "data": {
      "text/html": [
       "<ol class=list-inline>\n",
       "\t<li>1</li>\n",
       "\t<li>0</li>\n",
       "\t<li>1</li>\n",
       "</ol>\n"
      ],
      "text/latex": [
       "\\begin{enumerate*}\n",
       "\\item 1\n",
       "\\item 0\n",
       "\\item 1\n",
       "\\end{enumerate*}\n"
      ],
      "text/markdown": [
       "1. 1\n",
       "2. 0\n",
       "3. 1\n",
       "\n",
       "\n"
      ],
      "text/plain": [
       "[1] 1 0 1"
      ]
     },
     "metadata": {},
     "output_type": "display_data"
    }
   ],
   "source": [
    "p <- 0.5\n",
    "as.integer(runif(i-1) <= p)"
   ]
  },
  {
   "cell_type": "code",
   "execution_count": 48,
   "metadata": {
    "collapsed": false
   },
   "outputs": [
    {
     "data": {
      "text/html": [
       "<table>\n",
       "<tbody>\n",
       "\t<tr><td>0</td><td>1</td><td>1</td><td>1</td></tr>\n",
       "\t<tr><td>1</td><td>0</td><td>0</td><td>1</td></tr>\n",
       "\t<tr><td>1</td><td>0</td><td>0</td><td>0</td></tr>\n",
       "\t<tr><td>1</td><td>1</td><td>0</td><td>0</td></tr>\n",
       "</tbody>\n",
       "</table>\n"
      ],
      "text/latex": [
       "\\begin{tabular}{llll}\n",
       "\t 0 & 1 & 1 & 1\\\\\n",
       "\t 1 & 0 & 0 & 1\\\\\n",
       "\t 1 & 0 & 0 & 0\\\\\n",
       "\t 1 & 1 & 0 & 0\\\\\n",
       "\\end{tabular}\n"
      ],
      "text/markdown": [
       "1. 0\n",
       "2. 1\n",
       "3. 1\n",
       "4. 1\n",
       "5. 1\n",
       "6. 0\n",
       "7. 0\n",
       "8. 1\n",
       "9. 1\n",
       "10. 0\n",
       "11. 0\n",
       "12. 0\n",
       "13. 1\n",
       "14. 1\n",
       "15. 0\n",
       "16. 0\n",
       "\n",
       "\n"
      ],
      "text/plain": [
       "     [,1] [,2] [,3] [,4]\n",
       "[1,]    0    1    1    1\n",
       "[2,]    1    0    0    1\n",
       "[3,]    1    0    0    0\n",
       "[4,]    1    1    0    0"
      ]
     },
     "metadata": {},
     "output_type": "display_data"
    }
   ],
   "source": [
    "# now get rid of the for loop: use the sample function sample(x, size, replace 0=FALSE, prob=...) \n",
    "\n",
    "n <- 4\n",
    "p <- 0.5 \n",
    "A <- matrix(0, nrow=n, ncol=n)\n",
    "\n",
    "\n",
    "temp <- sample(c(0,1), size=as.integer(n*(n-1)/2), \n",
    "        replace=T, prob=c(1-p,p))\n",
    "\n",
    "A[lower.tri(A)]  <- temp       \n",
    "    \n",
    "# A <- A + t(A) # transposing and adding the old matrix together with the transposed one\n",
    "A\n",
    "#plot(graph_from_adjacency_matrix(A))\n"
   ]
  }
 ],
 "metadata": {
  "anaconda-cloud": {},
  "kernelspec": {
   "display_name": "R",
   "language": "R",
   "name": "ir"
  },
  "language_info": {
   "codemirror_mode": "r",
   "file_extension": ".r",
   "mimetype": "text/x-r-source",
   "name": "R",
   "pygments_lexer": "r",
   "version": "3.3.1"
  }
 },
 "nbformat": 4,
 "nbformat_minor": 0
}
