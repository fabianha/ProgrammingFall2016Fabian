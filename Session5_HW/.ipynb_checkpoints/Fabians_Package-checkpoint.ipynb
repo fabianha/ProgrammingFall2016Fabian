{
 "cells": [
  {
   "cell_type": "code",
   "execution_count": 13,
   "metadata": {
    "collapsed": false
   },
   "outputs": [
    {
     "name": "stdout",
     "output_type": "stream",
     "text": [
      "package 'devtools' successfully unpacked and MD5 sums checked\n",
      "\n",
      "The downloaded binary packages are in\n",
      "\tC:\\Users\\Fabia\\AppData\\Local\\Temp\\Rtmpg5G68v\\downloaded_packages\n",
      "package 'testthat' successfully unpacked and MD5 sums checked\n",
      "\n",
      "The downloaded binary packages are in\n",
      "\tC:\\Users\\Fabia\\AppData\\Local\\Temp\\Rtmpg5G68v\\downloaded_packages\n",
      "package 'roxygen2' successfully unpacked and MD5 sums checked\n",
      "\n",
      "The downloaded binary packages are in\n",
      "\tC:\\Users\\Fabia\\AppData\\Local\\Temp\\Rtmpg5G68v\\downloaded_packages\n"
     ]
    }
   ],
   "source": [
    "install.packages(\"devtools\",\n",
    "                 repos='http://cran.us.r-project.org')\n",
    "install.packages(\"testthat\",\n",
    "                 repos='http://cran.us.r-project.org')\n",
    "install.packages(\"roxygen2\",\n",
    "                 repos='http://cran.us.r-project.org')"
   ]
  },
  {
   "cell_type": "code",
   "execution_count": 17,
   "metadata": {
    "collapsed": false
   },
   "outputs": [
    {
     "ename": "ERROR",
     "evalue": "Error: Directory exists and is not empty\n",
     "output_type": "error",
     "traceback": [
      "Error: Directory exists and is not empty\nTraceback:\n",
      "1. create(name)",
      "2. stop(\"Directory exists and is not empty\", call. = FALSE)"
     ]
    }
   ],
   "source": [
    "library(\"devtools\")\n",
    "# Change these to suit your needs\n",
    "dir <- 'C:/Users/Fabia/ProgrammingFall2016Fabian/Session5_HW/'\n",
    "name <- 'FabiansPackage'\n",
    "\n",
    "# Create your package\n",
    "setwd(dir)\n",
    "create(name)"
   ]
  },
  {
   "cell_type": "code",
   "execution_count": 18,
   "metadata": {
    "collapsed": false
   },
   "outputs": [
    {
     "name": "stderr",
     "output_type": "stream",
     "text": [
      "Warning message:\n",
      "In dir.create(paste(paste(dir, name, sep = \"\"), \"man\", sep = \"/\")): 'C:\\Users\\Fabia\\ProgrammingFall2016Fabian\\Session5_HW\\FabiansPackage\\man' existiert bereits"
     ]
    }
   ],
   "source": [
    "# Including the man folder\n",
    "dir <- 'C:/Users/Fabia/ProgrammingFall2016Fabian/Session5_HW/'\n",
    "name <- 'FabiansPackage'\n",
    "dir.create(paste(paste(dir, name, sep=\"\"), \"man\", sep=\"/\"))\n"
   ]
  },
  {
   "cell_type": "code",
   "execution_count": 4,
   "metadata": {
    "collapsed": false
   },
   "outputs": [],
   "source": [
    "#' Finding the highest number in a vector\n",
    "#'\n",
    "#' This function finds the biggest number in a vector \n",
    "#' @export\n",
    "#' @examples\n",
    "#' vector_max()\n",
    "\n",
    "\n",
    "### Find the highest number in a vector\n",
    "vector_max <- function(vector){ \n",
    "    vector <- c(vector)\n",
    "    return(max(vector)) \n",
    "}"
   ]
  },
  {
   "cell_type": "code",
   "execution_count": 104,
   "metadata": {
    "collapsed": false
   },
   "outputs": [
    {
     "data": {
      "text/html": [
       "5"
      ],
      "text/latex": [
       "5"
      ],
      "text/markdown": [
       "5"
      ],
      "text/plain": [
       "[1] 5"
      ]
     },
     "metadata": {},
     "output_type": "display_data"
    },
    {
     "data": {
      "text/html": [
       "8"
      ],
      "text/latex": [
       "8"
      ],
      "text/markdown": [
       "8"
      ],
      "text/plain": [
       "[1] 8"
      ]
     },
     "metadata": {},
     "output_type": "display_data"
    }
   ],
   "source": [
    "# Trying to find that stupid function\n",
    "\n",
    "### Find the highest number of a, b, c\n",
    "vector_max <- function(a,b,c){ \n",
    "    return(max(a,b,c)) \n",
    "}\n",
    "vector_max(3,4,5)\n",
    "\n",
    "### Find the highest number in a vector\n",
    "vector_max <- function(vector){ \n",
    "    vector <- c(vector)\n",
    "    return(max(vector)) \n",
    "}\n",
    "\n",
    "vector <- c(3,5,2,5,8)\n",
    "vector_max(vector)"
   ]
  },
  {
   "cell_type": "code",
   "execution_count": 19,
   "metadata": {
    "collapsed": false,
    "scrolled": true
   },
   "outputs": [
    {
     "name": "stderr",
     "output_type": "stream",
     "text": [
      "Updating FabiansPackage documentation\n",
      "Loading FabiansPackage\n"
     ]
    },
    {
     "name": "stdout",
     "output_type": "stream",
     "text": [
      "Writing NAMESPACE\n",
      "Writing vector_max.Rd\n"
     ]
    }
   ],
   "source": [
    "setwd(paste(dir, name, sep=\"\"))\n",
    "document()"
   ]
  },
  {
   "cell_type": "code",
   "execution_count": 21,
   "metadata": {
    "collapsed": false
   },
   "outputs": [
    {
     "name": "stderr",
     "output_type": "stream",
     "text": [
      "Installing FabiansPackage\n"
     ]
    },
    {
     "ename": "ERROR",
     "evalue": "Error in if (download_method_secure()) {: Fehlender Wert, wo TRUE/FALSE nötig ist\n",
     "output_type": "error",
     "traceback": [
      "Error in if (download_method_secure()) {: Fehlender Wert, wo TRUE/FALSE nötig ist\nTraceback:\n",
      "1. install(name)",
      "2. install_deps(pkg, dependencies = initial_deps, upgrade = upgrade_dependencies, \n .     threads = threads, force_deps = force_deps, quiet = quiet, \n .     ...)",
      "3. dev_package_deps(pkg, repos = repos, dependencies = dependencies, \n .     type = type)",
      "4. filter_duplicate_deps(package_deps(deps, repos = repos, type = type), \n .     installing$remote_deps %||% remote_deps(pkg))",
      "5. rbind(cran_deps, remote_deps)",
      "6. package_deps(deps, repos = repos, type = type)",
      "7. cran_mirror()"
     ]
    }
   ],
   "source": [
    "setwd(dir)\n",
    "install(name)\n"
   ]
  },
  {
   "cell_type": "code",
   "execution_count": 22,
   "metadata": {
    "collapsed": false
   },
   "outputs": [
    {
     "name": "stderr",
     "output_type": "stream",
     "text": [
      "Using development documentation for vector_max\n"
     ]
    }
   ],
   "source": [
    "?vector_max"
   ]
  },
  {
   "cell_type": "code",
   "execution_count": 24,
   "metadata": {
    "collapsed": false
   },
   "outputs": [
    {
     "name": "stderr",
     "output_type": "stream",
     "text": [
      "\"C:/Users/Fabia/Anaconda3/R/bin/x64/R\" --no-site-file --no-environ --no-save  \\\n",
      "  --no-restore --quiet CMD build  \\\n",
      "  \"C:\\Users\\Fabia\\ProgrammingFall2016Fabian\\Session5_HW\\FabiansPackage\"  \\\n",
      "  --no-resave-data --no-manual \n",
      "\n"
     ]
    },
    {
     "data": {
      "text/html": [
       "\"C:/Users/Fabia/ProgrammingFall2016Fabian/Session5_HW/FabiansPackage_0.0.0.9000.tar.gz\""
      ],
      "text/latex": [
       "\"C:/Users/Fabia/ProgrammingFall2016Fabian/Session5_HW/FabiansPackage_0.0.0.9000.tar.gz\""
      ],
      "text/markdown": [
       "\"C:/Users/Fabia/ProgrammingFall2016Fabian/Session5_HW/FabiansPackage_0.0.0.9000.tar.gz\""
      ],
      "text/plain": [
       "[1] \"C:/Users/Fabia/ProgrammingFall2016Fabian/Session5_HW/FabiansPackage_0.0.0.9000.tar.gz\""
      ]
     },
     "metadata": {},
     "output_type": "display_data"
    }
   ],
   "source": [
    "setwd(paste(dir, name, sep=\"\"))\n",
    "build()"
   ]
  },
  {
   "cell_type": "code",
   "execution_count": null,
   "metadata": {
    "collapsed": true
   },
   "outputs": [],
   "source": []
  }
 ],
 "metadata": {
  "anaconda-cloud": {},
  "kernelspec": {
   "display_name": "R",
   "language": "R",
   "name": "ir"
  },
  "language_info": {
   "codemirror_mode": "r",
   "file_extension": ".r",
   "mimetype": "text/x-r-source",
   "name": "R",
   "pygments_lexer": "r",
   "version": "3.3.1"
  }
 },
 "nbformat": 4,
 "nbformat_minor": 0
}
