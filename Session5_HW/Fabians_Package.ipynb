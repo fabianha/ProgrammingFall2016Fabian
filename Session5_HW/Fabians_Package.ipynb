{
 "cells": [
  {
   "cell_type": "code",
   "execution_count": 1,
   "metadata": {
    "collapsed": false
   },
   "outputs": [
    {
     "name": "stdout",
     "output_type": "stream",
     "text": [
      "package 'devtools' successfully unpacked and MD5 sums checked\n",
      "\n",
      "The downloaded binary packages are in\n",
      "\tC:\\Users\\Fabia\\AppData\\Local\\Temp\\RtmpiGEPgK\\downloaded_packages\n",
      "package 'testthat' successfully unpacked and MD5 sums checked\n",
      "\n",
      "The downloaded binary packages are in\n",
      "\tC:\\Users\\Fabia\\AppData\\Local\\Temp\\RtmpiGEPgK\\downloaded_packages\n",
      "package 'roxygen2' successfully unpacked and MD5 sums checked\n",
      "\n",
      "The downloaded binary packages are in\n",
      "\tC:\\Users\\Fabia\\AppData\\Local\\Temp\\RtmpiGEPgK\\downloaded_packages\n"
     ]
    }
   ],
   "source": [
    "install.packages(\"devtools\",\n",
    "                 repos='http://cran.us.r-project.org')\n",
    "install.packages(\"testthat\",\n",
    "                 repos='http://cran.us.r-project.org')\n",
    "install.packages(\"roxygen2\",\n",
    "                 repos='http://cran.us.r-project.org')"
   ]
  },
  {
   "cell_type": "code",
   "execution_count": 5,
   "metadata": {
    "collapsed": false
   },
   "outputs": [
    {
     "ename": "ERROR",
     "evalue": "Error: Directory exists and is not empty\n",
     "output_type": "error",
     "traceback": [
      "Error: Directory exists and is not empty\nTraceback:\n",
      "1. create(name)",
      "2. stop(\"Directory exists and is not empty\", call. = FALSE)"
     ]
    }
   ],
   "source": [
    "library(\"devtools\")\n",
    "# Change these to suit your needs\n",
    "dir <- 'C:/Users/Fabia/ProgrammingFall2016Fabian/Session5_HW/'\n",
    "name <- 'FabiansPackage'\n",
    "\n",
    "# Create your package\n",
    "setwd(dir)\n",
    "create(name)"
   ]
  },
  {
   "cell_type": "code",
   "execution_count": 3,
   "metadata": {
    "collapsed": false
   },
   "outputs": [
    {
     "name": "stderr",
     "output_type": "stream",
     "text": [
      "Warning message:\n",
      "In dir.create(paste(paste(dir, name, sep = \"\"), \"man\", sep = \"/\")): 'C:\\Users\\Fabia\\ProgrammingFall2016Fabian\\Session5_HW\\FabiansPackage\\man' existiert bereits"
     ]
    }
   ],
   "source": [
    "# Including the man folder\n",
    "dir <- 'C:/Users/Fabia/ProgrammingFall2016Fabian/Session5_HW/'\n",
    "name <- 'FabiansPackage'\n",
    "dir.create(paste(paste(dir, name, sep=\"\"), \"man\", sep=\"/\"))\n"
   ]
  },
  {
   "cell_type": "code",
   "execution_count": 4,
   "metadata": {
    "collapsed": false
   },
   "outputs": [],
   "source": [
    "#' Finding the highest number in a vector\n",
    "#'\n",
    "#' This function finds the biggest number in a vector \n",
    "#' @export\n",
    "#' @examples\n",
    "#' vector_max()\n",
    "\n",
    "\n",
    "### Find the highest number in a vector\n",
    "vector_max <- function(vector){ \n",
    "    vector <- c(vector)\n",
    "    return(max(vector)) \n",
    "}"
   ]
  },
  {
   "cell_type": "code",
   "execution_count": 104,
   "metadata": {
    "collapsed": false
   },
   "outputs": [
    {
     "data": {
      "text/html": [
       "5"
      ],
      "text/latex": [
       "5"
      ],
      "text/markdown": [
       "5"
      ],
      "text/plain": [
       "[1] 5"
      ]
     },
     "metadata": {},
     "output_type": "display_data"
    },
    {
     "data": {
      "text/html": [
       "8"
      ],
      "text/latex": [
       "8"
      ],
      "text/markdown": [
       "8"
      ],
      "text/plain": [
       "[1] 8"
      ]
     },
     "metadata": {},
     "output_type": "display_data"
    }
   ],
   "source": [
    "# Trying to find that stupid function\n",
    "\n",
    "### Find the highest number of a, b, c\n",
    "vector_max <- function(a,b,c){ \n",
    "    return(max(a,b,c)) \n",
    "}\n",
    "vector_max(3,4,5)\n",
    "\n",
    "### Find the highest number in a vector\n",
    "vector_max <- function(vector){ \n",
    "    vector <- c(vector)\n",
    "    return(max(vector)) \n",
    "}\n",
    "\n",
    "vector <- c(3,5,2,5,8)\n",
    "vector_max(vector)"
   ]
  },
  {
   "cell_type": "code",
   "execution_count": 128,
   "metadata": {
    "collapsed": false,
    "scrolled": true
   },
   "outputs": [
    {
     "name": "stderr",
     "output_type": "stream",
     "text": [
      "Warning message:\n",
      "In read.dcf(file.path(p, \"DESCRIPTION\"), c(\"Package\", \"Version\")): kann komprimierte Datei 'C:/Users/Fabia/Anaconda3/R/library/devtools/DESCRIPTION' nicht öffnen. Grund evtl. 'No such file or directory'Warning message:\n",
      "In read.dcf(path): kann komprimierte Datei '' nicht öffnen. Grund evtl. 'Invalid argument'"
     ]
    },
    {
     "ename": "ERROR",
     "evalue": "Error in read.dcf(path): kann Verbindung nicht öffnen\n",
     "output_type": "error",
     "traceback": [
      "Error in read.dcf(path): kann Verbindung nicht öffnen\nTraceback:\n",
      "1. document()",
      "2. check_suggested(\"roxygen2\")",
      "3. suggests_dep(pkg)",
      "4. read_dcf(system.file(\"DESCRIPTION\", package = \"devtools\"))",
      "5. colnames(read.dcf(path))",
      "6. is.data.frame(x)",
      "7. read.dcf(path)"
     ]
    }
   ],
   "source": [
    "setwd(paste(dir, name, sep=\"\"))\n",
    "document()"
   ]
  },
  {
   "cell_type": "code",
   "execution_count": 6,
   "metadata": {
    "collapsed": false
   },
   "outputs": [
    {
     "name": "stderr",
     "output_type": "stream",
     "text": [
      "Installing FabiansPackage\n"
     ]
    },
    {
     "ename": "ERROR",
     "evalue": "Error in if (download_method_secure()) {: Fehlender Wert, wo TRUE/FALSE nötig ist\n",
     "output_type": "error",
     "traceback": [
      "Error in if (download_method_secure()) {: Fehlender Wert, wo TRUE/FALSE nötig ist\nTraceback:\n",
      "1. install(name)",
      "2. install_deps(pkg, dependencies = initial_deps, upgrade = upgrade_dependencies, \n .     threads = threads, force_deps = force_deps, quiet = quiet, \n .     ...)",
      "3. dev_package_deps(pkg, repos = repos, dependencies = dependencies, \n .     type = type)",
      "4. filter_duplicate_deps(package_deps(deps, repos = repos, type = type), \n .     installing$remote_deps %||% remote_deps(pkg))",
      "5. rbind(cran_deps, remote_deps)",
      "6. package_deps(deps, repos = repos, type = type)",
      "7. cran_mirror()"
     ]
    }
   ],
   "source": [
    "setwd(dir)\n",
    "install(name)"
   ]
  },
  {
   "cell_type": "code",
   "execution_count": null,
   "metadata": {
    "collapsed": false
   },
   "outputs": [],
   "source": []
  }
 ],
 "metadata": {
  "anaconda-cloud": {},
  "kernelspec": {
   "display_name": "R",
   "language": "R",
   "name": "ir"
  },
  "language_info": {
   "codemirror_mode": "r",
   "file_extension": ".r",
   "mimetype": "text/x-r-source",
   "name": "R",
   "pygments_lexer": "r",
   "version": "3.3.1"
  }
 },
 "nbformat": 4,
 "nbformat_minor": 0
}
