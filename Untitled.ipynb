{
 "cells": [
  {
   "cell_type": "code",
   "execution_count": 1,
   "metadata": {
    "collapsed": true
   },
   "outputs": [],
   "source": [
    "# Origin: Homework attempt for class 3.\n",
    "# Author: Fabian Hafner\n",
    "# Title: week_3_HW_Fabian_Hafner.ipynb\n",
    "# Last modified: 2016.08.03"
   ]
  },
  {
   "cell_type": "code",
   "execution_count": null,
   "metadata": {
    "collapsed": true
   },
   "outputs": [],
   "source": [
    "# Choose five of the functions we wrote and write documentation for them. \n",
    "# You can either use the roxygen format or your own, but I need to understand what the function does, \n",
    "# what its arguments mean/what their datatypes are, who made it, and when was it made.\n",
    "\n",
    "\n",
    "add <- function(a, b){\n",
    "    return(a + b)\n",
    "}\n"
   ]
  }
 ],
 "metadata": {
  "anaconda-cloud": {},
  "kernelspec": {
   "display_name": "R",
   "language": "R",
   "name": "ir"
  },
  "language_info": {
   "codemirror_mode": "r",
   "file_extension": ".r",
   "mimetype": "text/x-r-source",
   "name": "R",
   "pygments_lexer": "r",
   "version": "3.3.1"
  }
 },
 "nbformat": 4,
 "nbformat_minor": 0
}
