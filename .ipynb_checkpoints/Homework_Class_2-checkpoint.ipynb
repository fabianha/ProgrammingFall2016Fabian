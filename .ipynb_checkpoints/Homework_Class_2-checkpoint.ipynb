{
 "cells": [
  {
   "cell_type": "code",
   "execution_count": 1,
   "metadata": {
    "collapsed": false
   },
   "outputs": [
    {
     "data": {
      "text/html": [
       "\"You started with $100\""
      ],
      "text/latex": [
       "\"You started with $100\""
      ],
      "text/markdown": [
       "\"You started with $100\""
      ],
      "text/plain": [
       "[1] \"You started with $100\""
      ]
     },
     "metadata": {},
     "output_type": "display_data"
    },
    {
     "name": "stdout",
     "output_type": "stream",
     "text": [
      "[1] \"You win!\"\n",
      "[1] \"Now you've got $101.\"\n",
      "[1] \"You win!\"\n",
      "[1] \"Now you've got $102.\"\n",
      "[1] \"You win!\"\n",
      "[1] \"Now you've got $103.\"\n",
      "[1] \"You win!\"\n",
      "[1] \"Now you've got $104.\"\n",
      "[1] \"You win!\"\n",
      "[1] \"Now you've got $105.\"\n",
      "[1] \"You lose!\"\n",
      "[1] \"Now you've got $104.\"\n",
      "[1] \"You win!\"\n",
      "[1] \"Now you've got $105.\"\n",
      "[1] \"You win!\"\n",
      "[1] \"Now you've got $106.\"\n",
      "[1] \"You win!\"\n",
      "[1] \"Now you've got $107.\"\n",
      "[1] \"You win!\"\n",
      "[1] \"Now you've got $108.\"\n"
     ]
    }
   ],
   "source": [
    "# 1. Re-write the above code to loop over different values of p.\n",
    "\n",
    "w <- 100 # Initial wealth\n",
    "p <- 0.7 # Probability of a win\n",
    "T <- 10  # Terminal time\n",
    "\n",
    "sprintf(\"You started with $%s\", w)\n",
    "\n",
    "for(t in 1:T){\n",
    "    # A random draw\n",
    "    u <- runif(1)\n",
    "    if(u <= 1 - p){\n",
    "        print(\"You lose!\")\n",
    "        x <- 0\n",
    "        w <- w - 1\n",
    "    } else {\n",
    "        print(\"You win!\")\n",
    "        x <- 1\n",
    "        w <- w + 1\n",
    "    }\n",
    "    print(sprintf(\"Now you've got $%s.\", w))\n",
    "    \n",
    "}"
   ]
  },
  {
   "cell_type": "code",
   "execution_count": 2,
   "metadata": {
    "collapsed": false
   },
   "outputs": [
    {
     "data": {
      "text/html": [
       "\"You started with $100\""
      ],
      "text/latex": [
       "\"You started with $100\""
      ],
      "text/markdown": [
       "\"You started with $100\""
      ],
      "text/plain": [
       "[1] \"You started with $100\""
      ]
     },
     "metadata": {},
     "output_type": "display_data"
    },
    {
     "name": "stdout",
     "output_type": "stream",
     "text": [
      "[1] \"You lose!\"\n",
      "[1] \"Now you've got $99.\"\n",
      "[1] \"You lose!\"\n",
      "[1] \"Now you've got $98.\"\n",
      "[1] \"You lose!\"\n",
      "[1] \"Now you've got $97.\"\n",
      "[1] \"You lose!\"\n",
      "[1] \"Now you've got $96.\"\n",
      "[1] \"You lose!\"\n",
      "[1] \"Now you've got $95.\"\n",
      "[1] \"You lose!\"\n",
      "[1] \"Now you've got $94.\"\n",
      "[1] \"You lose!\"\n",
      "[1] \"Now you've got $93.\"\n",
      "[1] \"You lose!\"\n",
      "[1] \"Now you've got $92.\"\n",
      "[1] \"You lose!\"\n",
      "[1] \"Now you've got $91.\"\n",
      "[1] \"You lose!\"\n",
      "[1] \"Now you've got $90.\"\n"
     ]
    }
   ],
   "source": [
    "# 2. Re-write the code to use different values of $p$, \n",
    "# but the same random shocks each period.\n",
    "\n",
    "w <- 100 # Initial wealth\n",
    "p <- 0.7 # Probability of a win\n",
    "T <- 10  # Terminal time\n",
    "\n",
    "sprintf(\"You started with $%s\", w)\n",
    "\n",
    "for(t in 1:T){\n",
    "    u <- runif(1)\n",
    "    if(u < 1.1){ #modifying the success space to an unreachable level makes you loose always. \n",
    "        print(\"You lose!\")\n",
    "        x <- 0\n",
    "        w <- w - 1\n",
    "    } else {\n",
    "        print(\"You win!\")\n",
    "        x <- 1\n",
    "        w <- w + 1\n",
    "    }\n",
    "    print(sprintf(\"Now you've got $%s.\", w))\n",
    "}\n"
   ]
  },
  {
   "cell_type": "code",
   "execution_count": 5,
   "metadata": {
    "collapsed": false
   },
   "outputs": [
    {
     "data": {
      "image/png": "[encoded data removed]",
      "text/plain": [
       "plot without title"
      ]
     },
     "metadata": {
      "image/svg+xml": {
       "isolated": true
      }
     },
     "output_type": "display_data"
    }
   ],
   "source": [
    "# 3. Plot all the different paths for numbers 1 and 2 together on two plots.\n",
    "# Plot 1\n",
    "w0 <- 100 # Initial wealth\n",
    "p <- 0.7 # Probability of a win\n",
    "T <- 10  # Terminal time\n",
    "\n",
    "# Create empty objects to fill\n",
    "w <- rep(0, T+1)\n",
    "x <- rep(0, T)\n",
    "\n",
    "# Fill initial wealth\n",
    "w[1] = w0\n",
    "\n",
    "for(t in 1:T){\n",
    "    # A random draw\n",
    "    u <- runif(1)\n",
    "    if(u <= 1 - p){\n",
    "        x[t] <- 0\n",
    "        w[t+1] <- w[t] - 1\n",
    "    } else {\n",
    "        x[t] <- 1\n",
    "        w[t+1] <- w[t] + 1\n",
    "    }\n",
    "}\n",
    "time = 0:T\n",
    "plot(time, w, type='l')\n",
    "\n"
   ]
  },
  {
   "cell_type": "code",
   "execution_count": 7,
   "metadata": {
    "collapsed": false
   },
   "outputs": [
    {
     "data": {
      "image/png": "[encoded data removed]",
      "text/plain": [
       "plot without title"
      ]
     },
     "metadata": {
      "image/svg+xml": {
       "isolated": true
      }
     },
     "output_type": "display_data"
    }
   ],
   "source": [
    "# Plot 2\n",
    "w0 <- 100 # Initial wealth\n",
    "p <- 0.7 # Probability of a win\n",
    "T <- 10  # Terminal time\n",
    "\n",
    "\n",
    "# Create empty objects to fill\n",
    "w <- rep(0, T+1)\n",
    "x <- rep(0, T)\n",
    "\n",
    "# Fill initial wealth\n",
    "w[1] = w0\n",
    "\n",
    "for(t in 1:T){\n",
    "    # A random draw\n",
    "    u <- runif(1)\n",
    "    if(u < 1.1){\n",
    "        x[t] <- 0\n",
    "        w[t+1] <- w[t] - 1\n",
    "    } else {\n",
    "        x[t] <- 1\n",
    "        w[t+1] <- w[t] + 1\n",
    "    }\n",
    "}\n",
    "time = 0:T\n",
    "plot(time, w, type='l')"
   ]
  },
  {
   "cell_type": "code",
   "execution_count": null,
   "metadata": {
    "collapsed": true
   },
   "outputs": [],
   "source": [
    "# 4. Re-write the above code to simulate many realizations of the \n",
    "# terminal wealth for a single value of p and take the average. \n",
    "\n",
    "# somehow I ran out of ideas (and also time) from here; sorry Tyler, this is gonna work better next week!"
   ]
  },
  {
   "cell_type": "code",
   "execution_count": null,
   "metadata": {
    "collapsed": true
   },
   "outputs": [],
   "source": []
  }
 ],
 "metadata": {
  "anaconda-cloud": {},
  "kernelspec": {
   "display_name": "R",
   "language": "R",
   "name": "ir"
  },
  "language_info": {
   "codemirror_mode": "r",
   "file_extension": ".r",
   "mimetype": "text/x-r-source",
   "name": "R",
   "pygments_lexer": "r",
   "version": "3.3.1"
  }
 },
 "nbformat": 4,
 "nbformat_minor": 0
}
