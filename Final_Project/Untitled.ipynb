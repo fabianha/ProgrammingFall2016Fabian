{
 "cells": [
  {
   "cell_type": "code",
   "execution_count": null,
   "metadata": {
    "collapsed": true
   },
   "outputs": [],
   "source": [
    "#' A Function to count the female words per episode and save it in a dataframe\n",
    "#'\n",
    "#' This function tracks the absolute number of words spoken by women. It first adds up all words and finally stores the final amount of female and male words of every episode in a new dataset. However, as the function stands now the ordering did not work very well so that it creates an incomplete summary of word counts. \n",
    "#' @export\n",
    "#' @examples\n",
    "#' count_female_words()\n",
    "\n",
    "count_female_words <- function(i, j, data_scgen, data_wpe){\n",
    "# creating a data set to save the female \"words per episode\" (wpe)  in\n",
    "    data_scgen[,\"words_per_episode\"] <- 0\n",
    "    head(data_scgen)\n",
    "    data_wpe <- data.frame(\"episode\"=0, \"words_male\"=0, \"words_female\"=0)\n",
    "    data_wpe\n",
    "# creating setting vectors for row and episode\n",
    "    i <- 1 # episode \n",
    "    j <- 1 # row\n",
    "    addmen <- 0 \n",
    "    addwoman <- 0  \n",
    "# starting to count female words per episode\n",
    "    while(i <= 400){\n",
    "        if(data_scgen[j, 'gender'] == \"m\"){\n",
    "            addmen <- as.numeric(as.character(data_scgen[j,'word_count'])) + addmen\n",
    "            data_scgen[j,'words_per_episode'] <- addmen\n",
    "            j <- j + 1\n",
    "        }\n",
    "        if(data_scgen[j,'gender'] == \"f\"){ # If line j is a women, then add wordcount of line to sum of the words in the whole episode and add this number to column words_by_episode \n",
    "            addwoman <- as.numeric(as.character(data_scgen[j,'word_count'])) + addwoman\n",
    "            data_scgen[j,'words_per_episode'] <- addwoman\n",
    "            j <- j + 1\n",
    "        }\n",
    "        if (i != as.numeric(as.character(data_scgen[j,'episode_id']))){ # If new episode\n",
    "        infos <- c(i, addmen, addwoman) # saving the calculated word counts in the infos vector\n",
    "        data_wpe <- rbind(data_wpe, infos) # adding the infos into the dataset\n",
    "        addwoman <- 0 # setting the counting variable back to 0\n",
    "        addmen <- 0 #setting the counting variable back to 0\n",
    "        i <- as.numeric(as.character(data_scgen[j,'episode_id'])) #start over with next episode\n",
    "      }\n",
    "    }\n",
    "head(data_scgen, n=10L)\n",
    "head(data_wpe)\n",
    "}\n"
   ]
  }
 ],
 "metadata": {
  "anaconda-cloud": {},
  "kernelspec": {
   "display_name": "R",
   "language": "R",
   "name": "ir"
  },
  "language_info": {
   "codemirror_mode": "r",
   "file_extension": ".r",
   "mimetype": "text/x-r-source",
   "name": "R",
   "pygments_lexer": "r",
   "version": "3.3.1"
  }
 },
 "nbformat": 4,
 "nbformat_minor": 0
}
