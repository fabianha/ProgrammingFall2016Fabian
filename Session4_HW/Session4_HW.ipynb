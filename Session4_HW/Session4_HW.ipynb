{
 "cells": [
  {
   "cell_type": "code",
   "execution_count": 3,
   "metadata": {
    "collapsed": false
   },
   "outputs": [
    {
     "name": "stderr",
     "output_type": "stream",
     "text": [
      "Loading required package: MASS\n"
     ]
    },
    {
     "data": {
      "text/html": [
       "<table>\n",
       "<tbody>\n",
       "\t<tr><td>1.0</td><td>0.5</td></tr>\n",
       "\t<tr><td>0.5</td><td>1.0</td></tr>\n",
       "</tbody>\n",
       "</table>\n"
      ],
      "text/latex": [
       "\\begin{tabular}{ll}\n",
       "\t 1.0 & 0.5\\\\\n",
       "\t 0.5 & 1.0\\\\\n",
       "\\end{tabular}\n"
      ],
      "text/markdown": [
       "1. 1\n",
       "2. 0.5\n",
       "3. 0.5\n",
       "4. 1\n",
       "\n",
       "\n"
      ],
      "text/plain": [
       "     [,1] [,2]\n",
       "[1,]  1.0  0.5\n",
       "[2,]  0.5  1.0"
      ]
     },
     "metadata": {},
     "output_type": "display_data"
    }
   ],
   "source": [
    "## Homework week 4 - linear algebra\n",
    "\n",
    "\n",
    "# reviewing class work \n",
    "require(MASS)\n",
    "\n",
    "# Set the correlation parameter and mean\n",
    "beta = 0.5\n",
    "SIGMA = matrix(c(1,beta,beta,1), ncol=2)\n",
    "MU = c(2.0, 1.0)\n",
    "return(SIGMA)\n",
    "# Set the sample size\n",
    "N = 50\n",
    "\n",
    "# Draw your sample\n",
    "out <- mvrnorm(N, mu = MU, Sigma = SIGMA)\n",
    "    # mvrnorm: Produces one or more samples from the specified multivariate normal distribution. \n",
    "    # Sigma: a positive-definite symmetric matrix specifying the covariance matrix of the variables.\n",
    "        # ?? What does that mean? --> only means that my data will revolve around 2 as their mean on the y-axis and 1 on the x-axis \n",
    "    # mu: a vector giving the means of the variables.\n",
    "        # ?? Why do I need the means of the variables?"
   ]
  },
  {
   "cell_type": "code",
   "execution_count": 23,
   "metadata": {
    "collapsed": false
   },
   "outputs": [
    {
     "data": {
      "text/html": [
       "<ol class=list-inline>\n",
       "\t<li>50</li>\n",
       "\t<li>2</li>\n",
       "</ol>\n"
      ],
      "text/latex": [
       "\\begin{enumerate*}\n",
       "\\item 50\n",
       "\\item 2\n",
       "\\end{enumerate*}\n"
      ],
      "text/markdown": [
       "1. 50\n",
       "2. 2\n",
       "\n",
       "\n"
      ],
      "text/plain": [
       "[1] 50  2"
      ]
     },
     "metadata": {},
     "output_type": "display_data"
    },
    {
     "data": {
      "text/html": [
       "<table>\n",
       "<tbody>\n",
       "\t<tr><td> 1.17534364</td><td>-0.06582562</td></tr>\n",
       "\t<tr><td>0.7832195</td><td>1.7725107</td></tr>\n",
       "\t<tr><td>1.375126</td><td>1.631827</td></tr>\n",
       "\t<tr><td>1.7062662</td><td>0.9433267</td></tr>\n",
       "\t<tr><td>2.992260</td><td>3.304543</td></tr>\n",
       "\t<tr><td>2.833512</td><td>1.098943</td></tr>\n",
       "\t<tr><td>1.015489</td><td>2.069063</td></tr>\n",
       "\t<tr><td> 1.047255</td><td>-1.323922</td></tr>\n",
       "\t<tr><td>1.3308315</td><td>0.9858425</td></tr>\n",
       "\t<tr><td>2.851013</td><td>1.852690</td></tr>\n",
       "</tbody>\n",
       "</table>\n"
      ],
      "text/latex": [
       "\\begin{tabular}{ll}\n",
       "\t  1.17534364 & -0.06582562\\\\\n",
       "\t 0.7832195 & 1.7725107\\\\\n",
       "\t 1.375126 & 1.631827\\\\\n",
       "\t 1.7062662 & 0.9433267\\\\\n",
       "\t 2.992260 & 3.304543\\\\\n",
       "\t 2.833512 & 1.098943\\\\\n",
       "\t 1.015489 & 2.069063\\\\\n",
       "\t  1.047255 & -1.323922\\\\\n",
       "\t 1.3308315 & 0.9858425\\\\\n",
       "\t 2.851013 & 1.852690\\\\\n",
       "\\end{tabular}\n"
      ],
      "text/markdown": [
       "1. 1.17534363782787\n",
       "2. 0.783219490199546\n",
       "3. 1.37512556527173\n",
       "4. 1.70626615980992\n",
       "5. 2.99225990551249\n",
       "6. 2.83351242909708\n",
       "7. 1.01548946829151\n",
       "8. 1.04725540870878\n",
       "9. 1.33083152291219\n",
       "10. 2.85101305177917\n",
       "11. -0.065825620228172\n",
       "12. 1.77251067382548\n",
       "13. 1.63182698629105\n",
       "14. 0.943326660894536\n",
       "15. 3.30454285650261\n",
       "16. 1.09894322961477\n",
       "17. 2.06906341127091\n",
       "18. -1.32392159636768\n",
       "19. 0.985842459533587\n",
       "20. 1.85269035432385\n",
       "\n",
       "\n"
      ],
      "text/plain": [
       "           [,1]        [,2]\n",
       " [1,] 1.1753436 -0.06582562\n",
       " [2,] 0.7832195  1.77251067\n",
       " [3,] 1.3751256  1.63182699\n",
       " [4,] 1.7062662  0.94332666\n",
       " [5,] 2.9922599  3.30454286\n",
       " [6,] 2.8335124  1.09894323\n",
       " [7,] 1.0154895  2.06906341\n",
       " [8,] 1.0472554 -1.32392160\n",
       " [9,] 1.3308315  0.98584246\n",
       "[10,] 2.8510131  1.85269035"
      ]
     },
     "metadata": {},
     "output_type": "display_data"
    }
   ],
   "source": [
    "# Look at a section of the data\n",
    "dim(out)\n",
    "out[1:10,]\n",
    "    # [x,] means select row x (in this case: rows 1:10)"
   ]
  },
  {
   "cell_type": "code",
   "execution_count": 28,
   "metadata": {
    "collapsed": false
   },
   "outputs": [
    {
     "data": {
      "image/png": "[encoded data removed]",
      "text/plain": [
       "plot without title"
      ]
     },
     "metadata": {
      "image/svg+xml": {
       "isolated": true
      }
     },
     "output_type": "display_data"
    }
   ],
   "source": [
    "plot(out)\n",
    "abline(lm(out[,2]~out[,1]), col=\"red\") \n",
    "    # abline(a = NULL, b = NULL, h = NULL, v = NULL, reg = NULL, coef = NULL, untf = FALSE, ...)\n",
    "    # a and b --> the intercept and slope, single values.\n",
    "        # lm: A typical model has the form \"response ~ terms\" where response is the (numeric) response vector and terms is a series of terms which specifies a linear predictor for response. (man predicted also praktisch von jedem \"term\" element auf jedes \"response\" element)"
   ]
  },
  {
   "cell_type": "code",
   "execution_count": 44,
   "metadata": {
    "collapsed": false,
    "scrolled": true
   },
   "outputs": [
    {
     "data": {
      "text/html": [
       "<table>\n",
       "<tbody>\n",
       "\t<tr><td>0.4492451</td></tr>\n",
       "</tbody>\n",
       "</table>\n"
      ],
      "text/latex": [
       "\\begin{tabular}{l}\n",
       "\t 0.4492451\\\\\n",
       "\\end{tabular}\n"
      ],
      "text/markdown": [
       "0.449245133325771"
      ],
      "text/plain": [
       "          [,1]\n",
       "[1,] 0.4492451"
      ]
     },
     "metadata": {},
     "output_type": "display_data"
    },
    {
     "data": {
      "image/png": "[encoded data removed]",
      "text/plain": [
       "plot without title"
      ]
     },
     "metadata": {
      "image/svg+xml": {
       "isolated": true
      }
     },
     "output_type": "display_data"
    }
   ],
   "source": [
    "# Our data set is named `out`, which we split into y and X\n",
    "y <- out[, 2]\n",
    "X <- out[, 1]\n",
    "\n",
    "# Now carry out intermediate calculations\n",
    "XT = t(X)\n",
    "XTX = XT%*%X\n",
    "invXTX = solve(XTX)\n",
    "XTy = XT%*%y\n",
    "beta = invXTX %*% XTy\n",
    "beta\n",
    "\n",
    "# Now add this line to the plot\n",
    "plot(out)\n",
    "abline(lm(out[,2]~out[,1]), col=\"red\") # regression line (y~x) \n",
    "abline(a=0, b=beta, col=\"blue\")\n"
   ]
  },
  {
   "cell_type": "code",
   "execution_count": 40,
   "metadata": {
    "collapsed": false
   },
   "outputs": [
    {
     "data": {
      "text/plain": [
       "   user  system elapsed \n",
       "      0       0       0 "
      ]
     },
     "metadata": {},
     "output_type": "display_data"
    },
    {
     "data": {
      "text/plain": [
       "   user  system elapsed \n",
       "      0       0       0 "
      ]
     },
     "metadata": {},
     "output_type": "display_data"
    },
    {
     "data": {
      "image/png": "[encoded data removed]",
      "text/plain": [
       "plot without title"
      ]
     },
     "metadata": {
      "image/svg+xml": {
       "isolated": true
      }
     },
     "output_type": "display_data"
    }
   ],
   "source": [
    "system.time(solve(XTX) %*% XTy)\n",
    "system.time(solve(XTX, XTy))\n",
    "\n",
    "beta2 = solve(XTX, XTy)\n",
    "plot(out)\n",
    "abline(lm(out[,2]~out[,1]), col=\"red\") # regression line (y~x) \n",
    "abline(a=0, b=beta, col=\"blue\")\n",
    "abline(a=0, b=beta2, col=\"green\")"
   ]
  },
  {
   "cell_type": "code",
   "execution_count": 7,
   "metadata": {
    "collapsed": false
   },
   "outputs": [
    {
     "data": {
      "text/html": [
       "<table>\n",
       "<tbody>\n",
       "\t<tr><th scope=row>x</th><td>0.5036473</td></tr>\n",
       "\t<tr><th scope=row>x_1</th><td>-0.05667532</td></tr>\n",
       "</tbody>\n",
       "</table>\n"
      ],
      "text/latex": [
       "\\begin{tabular}{r|l}\n",
       "\tx & 0.5036473\\\\\n",
       "\tx_1 & -0.05667532\\\\\n",
       "\\end{tabular}\n"
      ],
      "text/markdown": [
       "1. 0.503647312326492\n",
       "2. -0.0566753207767778\n",
       "\n",
       "\n"
      ],
      "text/plain": [
       "           [,1]\n",
       "x    0.50364731\n",
       "x_1 -0.05667532"
      ]
     },
     "metadata": {},
     "output_type": "display_data"
    },
    {
     "data": {
      "image/png": "[encoded data removed]",
      "text/plain": [
       "plot without title"
      ]
     },
     "metadata": {
      "image/svg+xml": {
       "isolated": true
      }
     },
     "output_type": "display_data"
    }
   ],
   "source": [
    "#### Homework ####\n",
    "\n",
    "# 1. Figure out what's wrong with our least squares solution!\n",
    "\n",
    "# Our data set is named `out`, which we split into y and X\n",
    "y <- out[, 2]\n",
    "x <- out[, 1]\n",
    "x_1 <- rep(1, time = 50)\n",
    "X <- cbind(x, x_1)\n",
    "\n",
    "# Now carry out intermediate calculations\n",
    "XT = t(X)\n",
    "XTX = XT%*%X\n",
    "invXTX = solve(XTX)\n",
    "XTy = XT%*%y\n",
    "beta = invXTX %*% XTy\n",
    "beta\n",
    "\n",
    "# Now add this line to the plot\n",
    "plot(out)\n",
    "abline(lm(out[,2]~out[,1]), col=\"red\") # regression line (y~x) \n",
    "abline(a=0, b=beta, col=\"blue\")"
   ]
  },
  {
   "cell_type": "code",
   "execution_count": 18,
   "metadata": {
    "collapsed": false
   },
   "outputs": [
    {
     "data": {
      "text/html": [
       "<table>\n",
       "<tbody>\n",
       "\t<tr><td>1.0</td><td>0.5</td><td>0.7</td></tr>\n",
       "\t<tr><td>0.5</td><td>1.0</td><td>0.5</td></tr>\n",
       "\t<tr><td>0.7</td><td>0.7</td><td>1.0</td></tr>\n",
       "</tbody>\n",
       "</table>\n"
      ],
      "text/latex": [
       "\\begin{tabular}{lll}\n",
       "\t 1.0 & 0.5 & 0.7\\\\\n",
       "\t 0.5 & 1.0 & 0.5\\\\\n",
       "\t 0.7 & 0.7 & 1.0\\\\\n",
       "\\end{tabular}\n"
      ],
      "text/markdown": [
       "1. 1\n",
       "2. 0.5\n",
       "3. 0.7\n",
       "4. 0.5\n",
       "5. 1\n",
       "6. 0.7\n",
       "7. 0.7\n",
       "8. 0.5\n",
       "9. 1\n",
       "\n",
       "\n"
      ],
      "text/plain": [
       "     [,1] [,2] [,3]\n",
       "[1,]  1.0  0.5  0.7\n",
       "[2,]  0.5  1.0  0.5\n",
       "[3,]  0.7  0.7  1.0"
      ]
     },
     "metadata": {},
     "output_type": "display_data"
    }
   ],
   "source": [
    "# 3. Rewrite the above code to estimate the vector $\\beta$ for a $3$ \n",
    "# dimensional normal random variable. \n",
    "# (NOTE: it is more complicated to predict the values of $\\beta$\n",
    "# given the covariance matrix, so don't worry about it.)\n",
    "\n",
    "# Set the correlation parameter and mean\n",
    "beta_1 = 0.5\n",
    "beta_2 = 0.7\n",
    "SIGMA_2 = matrix(c(1,beta_1,beta_2, beta_1, 1, beta_2, beta_2, beta_1 ,1), ncol=3)\n",
    "MU = c(2.0, 1.0, 3.0)\n",
    "return(SIGMA_2)\n",
    "\n",
    "# Set the sample size\n",
    "N = 50\n",
    "\n",
    "# Draw your sample\n",
    "out <- mvrnorm(N, mu = MU, Sigma = SIGMA_2)\n",
    "#return(out)\n",
    "\n",
    "\n",
    "\n",
    "\n",
    "\n"
   ]
  },
  {
   "cell_type": "code",
   "execution_count": 22,
   "metadata": {
    "collapsed": false
   },
   "outputs": [
    {
     "data": {
      "text/plain": [
       "\n",
       "Call:\n",
       "lm(formula = y ~ z + x)\n",
       "\n",
       "Coefficients:\n",
       "(Intercept)            z            x  \n",
       "     1.8274       0.3980       0.4208  \n"
      ]
     },
     "metadata": {},
     "output_type": "display_data"
    },
    {
     "data": {
      "text/html": [
       "<table>\n",
       "<tbody>\n",
       "\t<tr><th scope=row>z</th><td>0.3980037</td></tr>\n",
       "\t<tr><th scope=row>x</th><td>0.420837</td></tr>\n",
       "\t<tr><th scope=row>x_1</th><td>1.827405</td></tr>\n",
       "</tbody>\n",
       "</table>\n"
      ],
      "text/latex": [
       "\\begin{tabular}{r|l}\n",
       "\tz & 0.3980037\\\\\n",
       "\tx & 0.420837\\\\\n",
       "\tx_1 & 1.827405\\\\\n",
       "\\end{tabular}\n"
      ],
      "text/markdown": [
       "1. 0.398003666095923\n",
       "2. 0.420836986183486\n",
       "3. 1.82740470485432\n",
       "\n",
       "\n"
      ],
      "text/plain": [
       "         [,1]\n",
       "z   0.3980037\n",
       "x   0.4208370\n",
       "x_1 1.8274047"
      ]
     },
     "metadata": {},
     "output_type": "display_data"
    }
   ],
   "source": [
    "y <- out[, 3]\n",
    "x <- out[, 2]\n",
    "z <- out[, 1]\n",
    "x_1 <- rep(1, time = 50)\n",
    "X <- cbind(z, x, x_1)\n",
    "\n",
    "# running it with the definition\n",
    "lm(y ~ z+x)\n",
    "\n",
    "# running it manually\n",
    "XT = t(X)\n",
    "XTX = XT%*%X\n",
    "invXTX = solve(XTX)\n",
    "XTy = XT%*%y\n",
    "beta = invXTX %*% XTy\n",
    "beta\n",
    "\n",
    "# Same numbers but no clue why is it not the same values?\n"
   ]
  },
  {
   "cell_type": "code",
   "execution_count": 35,
   "metadata": {
    "collapsed": false
   },
   "outputs": [
    {
     "ename": "ERROR",
     "evalue": "Error in parse(text = x, srcfile = src): <text>:10:1: unerwartetes Symbol\n9:               \n10: N_3\n    ^\n",
     "output_type": "error",
     "traceback": "Error in parse(text = x, srcfile = src): <text>:10:1: unerwartetes Symbol\n9:               \n10: N_3\n    ^\nTraceback:\n"
    }
   ],
   "source": [
    "# 4. Write a function which takes an arbitrarily large vector of means,\n",
    "# a correlation matrix, and a sample size, and outputs the estimated \n",
    "# vector ββ and plots the sample with the least squares line \n",
    "#(note: plotting this is going to be tricky for more than 3 dimensions,\n",
    "#so don't worry about it).\n",
    "\n",
    "#MU_3 = c(runif(10, 0, 10))\n",
    "SIGMA_3 = matrix(c(runif(10, 0, 10), ncol=10)\n",
    "              \n",
    "N_3 = 100\n",
    "\n",
    "# Draw your sample\n",
    "out_3 <- mvrnorm(N_3, mu = MU_3, Sigma = SIGMA_3)\n"
   ]
  }
 ],
 "metadata": {
  "anaconda-cloud": {},
  "kernelspec": {
   "display_name": "R",
   "language": "R",
   "name": "ir"
  },
  "language_info": {
   "codemirror_mode": "r",
   "file_extension": ".r",
   "mimetype": "text/x-r-source",
   "name": "R",
   "pygments_lexer": "r",
   "version": "3.3.1"
  }
 },
 "nbformat": 4,
 "nbformat_minor": 0
}
